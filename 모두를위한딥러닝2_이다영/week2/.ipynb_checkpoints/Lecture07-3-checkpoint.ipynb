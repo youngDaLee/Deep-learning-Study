{
 "cells": [
  {
   "cell_type": "markdown",
   "metadata": {},
   "source": [
    "# Application & Tips"
   ]
  },
  {
   "cell_type": "markdown",
   "metadata": {},
   "source": [
    "## Data sets"
   ]
  },
  {
   "cell_type": "markdown",
   "metadata": {},
   "source": [
    "### Training and Validation\n",
    "- 학습 데이터와 평가 데이터를 잘 나눠야 함.\n",
    "- 데이터 구성하는 것이 가장 중요.\n",
    "\n",
    ">Good Case\n",
    "- data를 바탕으로 레이어를 쌓을 수 있음.\n",
    "- 네트워크 깊어지고 optimization 하면서 동일 데이터로 반복학습하면서 원하는 모델을 만들어감\n"
   ]
  },
  {
   "cell_type": "markdown",
   "metadata": {},
   "source": [
    "### Evaluating a hypothesis\n",
    "- 실제 데이터 구성한 이후 모델이 어느정도 성립 된 이후에 새로운 데이터를 만들어 모델을 테스트함.\n"
   ]
  },
  {
   "cell_type": "markdown",
   "metadata": {},
   "source": [
    "### Anomaly detecion\n",
    "새로운 방식으로 모델을 만든다.\n",
    "- 건강한 data로 학습된 모델은 건강한 data에 대해서만 잘 찾는다.\n",
    "- 특이한 데이터가 왔을 때(Anomaly) 이상데이터 잘 감지하는 방식"
   ]
  },
  {
   "cell_type": "code",
   "execution_count": null,
   "metadata": {},
   "outputs": [],
   "source": []
  },
  {
   "cell_type": "markdown",
   "metadata": {},
   "source": [
    "## Learning"
   ]
  },
  {
   "cell_type": "markdown",
   "metadata": {},
   "source": [
    "### Online\n",
    "- 계속 학습하면서 학습\n",
    "- Data : Fresh\n",
    "- Network: Connected\n",
    "- Model : Updating\n",
    "- Weight : Tunning\n",
    "- Infra(GPU) : Always\n",
    "- Application : Realtime Prosess 실시간 업데이트\n",
    "- Priority : Speed"
   ]
  },
  {
   "cell_type": "markdown",
   "metadata": {},
   "source": [
    "### Batch(Offline) Learnign\n",
    "- 데이터가 정적인(static) 상태에서 학습\n",
    "- Data : Static\n",
    "- Network: disconnected 인터넷 끊긴 상태에서도 학습\n",
    "- Model : Static\n",
    "- Weight : initailize 초기화를 통해 정적인 값 유기\n",
    "- Infra(GPU) : Per call 학습할때만 요청\n",
    "- Application : Stopping\n",
    "- Priority : Correctness"
   ]
  },
  {
   "cell_type": "markdown",
   "metadata": {},
   "source": [
    "### Fine Tuning/ Feature Extraciton\n",
    "- **Fine Tuning** : 기존 model에서 새로운 data 학습시켜 기존 weight값 미세하게 조절해 구분해낼 수 있게 함.\n",
    "- **Feature Extraxtion** : 새로운 tesk에 대해서만 학습시켜 구분할 수 있게 함"
   ]
  },
  {
   "cell_type": "markdown",
   "metadata": {},
   "source": [
    "### Efficient Models\n",
    "- 현장에서 실제 모델에 대한 퍼포먼스도 중요.\n",
    "- inference time 중요. 모델의 weight값 경량화 해야 한다.\n",
    "- 1x1 convolution\n",
    "    - Squeezenet, Moblienet\n",
    "    - 이렇게 차원 줄이며 속도 빠르게 해준다."
   ]
  },
  {
   "cell_type": "markdown",
   "metadata": {},
   "source": [
    "## Sample Data"
   ]
  },
  {
   "cell_type": "markdown",
   "metadata": {},
   "source": [
    "- Lec07-3-2, Lec07-2-2 다시 듣기"
   ]
  },
  {
   "cell_type": "code",
   "execution_count": null,
   "metadata": {},
   "outputs": [],
   "source": []
  }
 ],
 "metadata": {
  "kernelspec": {
   "display_name": "Python 3",
   "language": "python",
   "name": "python3"
  },
  "language_info": {
   "codemirror_mode": {
    "name": "ipython",
    "version": 3
   },
   "file_extension": ".py",
   "mimetype": "text/x-python",
   "name": "python",
   "nbconvert_exporter": "python",
   "pygments_lexer": "ipython3",
   "version": "3.7.6"
  }
 },
 "nbformat": 4,
 "nbformat_minor": 4
}
