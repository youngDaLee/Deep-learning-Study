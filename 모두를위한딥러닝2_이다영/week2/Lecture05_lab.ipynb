{
 "cells": [
  {
   "cell_type": "markdown",
   "metadata": {},
   "source": [
    "# 강의 code"
   ]
  },
  {
   "cell_type": "markdown",
   "metadata": {},
   "source": [
    "- 엉망이라 함. 안돌아감."
   ]
  },
  {
   "cell_type": "code",
   "execution_count": 3,
   "metadata": {},
   "outputs": [
    {
     "ename": "ModuleNotFoundError",
     "evalue": "No module named 'tensorflow.contrib'",
     "output_type": "error",
     "traceback": [
      "\u001b[1;31m---------------------------------------------------------------------------\u001b[0m",
      "\u001b[1;31mModuleNotFoundError\u001b[0m                       Traceback (most recent call last)",
      "\u001b[1;32m<ipython-input-3-30d8da65a660>\u001b[0m in \u001b[0;36m<module>\u001b[1;34m\u001b[0m\n\u001b[0;32m      1\u001b[0m \u001b[1;32mimport\u001b[0m \u001b[0mtensorflow\u001b[0m \u001b[1;32mas\u001b[0m \u001b[0mtf\u001b[0m\u001b[1;33m\u001b[0m\u001b[1;33m\u001b[0m\u001b[0m\n\u001b[1;32m----> 2\u001b[1;33m \u001b[1;32mimport\u001b[0m \u001b[0mtensorflow\u001b[0m\u001b[1;33m.\u001b[0m\u001b[0mcontrib\u001b[0m\u001b[1;33m.\u001b[0m\u001b[0meager\u001b[0m \u001b[1;32mas\u001b[0m \u001b[0mtfe\u001b[0m\u001b[1;33m\u001b[0m\u001b[1;33m\u001b[0m\u001b[0m\n\u001b[0m\u001b[0;32m      3\u001b[0m \u001b[1;33m\u001b[0m\u001b[0m\n\u001b[0;32m      4\u001b[0m \u001b[0mtf\u001b[0m\u001b[1;33m.\u001b[0m\u001b[0menable_eager_excution\u001b[0m\u001b[1;33m(\u001b[0m\u001b[1;33m)\u001b[0m\u001b[1;33m\u001b[0m\u001b[1;33m\u001b[0m\u001b[0m\n\u001b[0;32m      5\u001b[0m \u001b[0mdataset\u001b[0m\u001b[1;33m=\u001b[0m\u001b[0mtf\u001b[0m\u001b[1;33m.\u001b[0m\u001b[0mdata\u001b[0m\u001b[1;33m.\u001b[0m\u001b[0mDataset\u001b[0m\u001b[1;33m.\u001b[0m\u001b[0mfrom_tensor_slices\u001b[0m\u001b[1;33m(\u001b[0m\u001b[1;33m(\u001b[0m\u001b[0mx_train\u001b[0m\u001b[1;33m,\u001b[0m\u001b[0my_train\u001b[0m\u001b[1;33m)\u001b[0m\u001b[1;33m)\u001b[0m\u001b[1;33m.\u001b[0m\u001b[0mbatch\u001b[0m\u001b[1;33m(\u001b[0m\u001b[0mlen\u001b[0m\u001b[1;33m(\u001b[0m\u001b[0mx_train\u001b[0m\u001b[1;33m)\u001b[0m\u001b[1;33m)\u001b[0m\u001b[1;33m\u001b[0m\u001b[1;33m\u001b[0m\u001b[0m\n",
      "\u001b[1;31mModuleNotFoundError\u001b[0m: No module named 'tensorflow.contrib'"
     ]
    }
   ],
   "source": [
    "import tensorflow as tf\n",
    "import tensorflow.contrib.eager as tfe\n",
    "\n",
    "tf.enable_eager_excution()\n",
    "dataset=tf.data.Dataset.from_tensor_slices((x_train,y_train)).batch(len(x_train))\n",
    "W= tf.variable(tf.zeros([2,1]), name='weight')\n",
    "b= tf.variable(tf.zeros([1]),name='bias')\n",
    "\n",
    "def logistic_regression(features):\n",
    "    hypothesis=tf.div(1.,1.+tf.exp(tf.matmul(features,W)+b))\n",
    "    return hypothesis\n",
    "def loss_fn(features, labels):\n",
    "    hypothesis=logistic_regression(features)\n",
    "    cost=tf.reduce_mean(labels*tf.log(loss_fn(hypothesis)+(1-labels)*tf.log(1-hypothesis)))\n",
    "    return cost\n",
    "def grad(hypothesis, features,labels):\n",
    "    with tf.GradientTape() as tape:\n",
    "        loss_value=loss_fn(hypothesis,labels)\n",
    "    return tape.gradient(loss_value,[W,b])\n",
    "optimizer=tf.train.GradientDescentOptimizer(learning_rate=0.01)\n",
    "\n",
    "for step in range(EPOCHS):\n",
    "    for features, labels in tfe.Iterator(dataset):\n",
    "        grads=grad(logistic_regression(features),features, labels)\n",
    "        optimizer.apply_gradients(grads_and_vars=zip(grads,[W,b]))\n",
    "        if step&100==0:\n",
    "            print(\"Iter: {}, Loss: {.4f}\".format(step, loss_fn(logistic_regression(features),labels)))\n",
    "\n",
    "def accuracy_fn(hypothesis, labels):\n",
    "    predicted=tf.cast(hypothesis>0.5, dtype=tf.float32)\n",
    "    accuracy=tf.reduce_mean(tf.cast(tf.equal(predicted, labels),dtype=tf.int32))\n",
    "    return accuracy\n",
    "\n",
    "test_acc=accuracy_fn(logistic_regression(x_test),y_test)"
   ]
  },
  {
   "cell_type": "markdown",
   "metadata": {},
   "source": [
    "## 강의 gitHub 코드에서는 가능할 것 같음"
   ]
  },
  {
   "cell_type": "code",
   "execution_count": 4,
   "metadata": {},
   "outputs": [
    {
     "ename": "SyntaxError",
     "evalue": "invalid syntax (<ipython-input-4-720f7e9b5a87>, line 1)",
     "output_type": "error",
     "traceback": [
      "\u001b[1;36m  File \u001b[1;32m\"<ipython-input-4-720f7e9b5a87>\"\u001b[1;36m, line \u001b[1;32m1\u001b[0m\n\u001b[1;33m    - [강의gitHub 링크](https://github.com/deeplearningzerotoall/TensorFlow/blob/master/lab-05-1-logistic_regression-eager.ipynb)\u001b[0m\n\u001b[1;37m                 ^\u001b[0m\n\u001b[1;31mSyntaxError\u001b[0m\u001b[1;31m:\u001b[0m invalid syntax\n"
     ]
    }
   ],
   "source": [
    "- [강의gitHub 링크](https://github.com/deeplearningzerotoall/TensorFlow/blob/master/lab-05-1-logistic_regression-eager.ipynb)"
   ]
  },
  {
   "cell_type": "markdown",
   "metadata": {},
   "source": [
    "# 강의 유튜브 댓글 코드"
   ]
  },
  {
   "cell_type": "code",
   "execution_count": 2,
   "metadata": {},
   "outputs": [
    {
     "name": "stdout",
     "output_type": "stream",
     "text": [
      "Iter: 0, Loss: 0.6874\n",
      "Iter: 300, Loss: 0.5054\n",
      "Iter: 600, Loss: 0.4535\n",
      "Iter: 900, Loss: 0.4228\n",
      "Iter: 1200, Loss: 0.3992\n",
      "Iter: 1500, Loss: 0.3790\n",
      "Iter: 1800, Loss: 0.3608\n",
      "Iter: 2100, Loss: 0.3442\n",
      "Iter: 2400, Loss: 0.3288\n",
      "Iter: 2700, Loss: 0.3146\n",
      "Iter: 3000, Loss: 0.3013\n",
      "Accuracy: 100%\n"
     ]
    }
   ],
   "source": [
    "import tensorflow as tf\n",
    "import numpy as np\n",
    "\n",
    "x_train = np.array([\n",
    "    [1, 2],\n",
    "    [2, 3],\n",
    "    [3, 1],\n",
    "    [4, 3],\n",
    "    [5, 3],\n",
    "    [6, 2]], dtype=np.float32)\n",
    "y_train = np.array([\n",
    "    [0],\n",
    "    [0],\n",
    "    [0],\n",
    "    [1],\n",
    "    [1],\n",
    "    [1]], dtype=np.float32)\n",
    "\n",
    "x_test = np.array([[5, 2]], dtype=np.float32)\n",
    "y_test = np.array([[1]], dtype=np.float32)\n",
    "\n",
    "# tf.data.Dataset 파이프라인을 이용하여 값을 입력\n",
    "# from_tensor_slices 클래스 매서드를 사용하면 리스트, 넘파이, 텐서플로 자료형에서 데이터셋을 만들 수 있음\n",
    "dataset = tf.data.Dataset.from_tensor_slices((x_train, y_train)).batch(len(x_train))\n",
    "W = tf.Variable(tf.zeros([2, 1]), name='weight')\n",
    "b = tf.Variable(tf.zeros([1]), name='bias')\n",
    "\n",
    "# 원소의 자료구조 반환\n",
    "dataset.element_spec\n",
    "\n",
    "def logistic_regression(features):\n",
    "    hypothesis = tf.sigmoid(tf.matmul(features, W) + b)\n",
    "    return hypothesis\n",
    "\n",
    "\n",
    "def loss_fn(features, labels):\n",
    "    hypothesis = logistic_regression(features)\n",
    "    cost = -tf.reduce_mean(labels * tf.math.log(hypothesis) + (1 - labels) * tf.math.log(1 - hypothesis))\n",
    "    return cost\n",
    "\n",
    "def grad(hypothesis, features, labels):\n",
    "    with tf.GradientTape() as tape:\n",
    "        loss_value = loss_fn(features, labels)\n",
    "    return tape.gradient(loss_value, [W,b])\n",
    "\n",
    "optimizer = tf.keras.optimizers.SGD(learning_rate=0.01)\n",
    "\n",
    "EPOCHS = 3000\n",
    "\n",
    "for step in range(EPOCHS + 1):\n",
    "    for features, labels in iter(dataset):\n",
    "        hypothesis = logistic_regression(features)\n",
    "        grads = grad(hypothesis, features, labels)\n",
    "        optimizer.apply_gradients(grads_and_vars=zip(grads, [W,b]))\n",
    "        if step % 300 == 0:\n",
    "            print(\"Iter: {}, Loss: {:.4f}\".format(step, loss_fn(features, labels)))\n",
    "            # print(hypothesis)\n",
    "            \n",
    "def accuracy_fn(hypothesis, labels):\n",
    "    predicted = tf.cast(hypothesis > 0.5, dtype=tf.float32)\n",
    "    accuracy = tf.reduce_mean(tf.cast(tf.equal(predicted, labels), dtype=tf.int32))\n",
    "    return accuracy\n",
    "\n",
    "test_acc = accuracy_fn(logistic_regression(x_test), y_test)\n",
    "print('Accuracy: {}%'.format(test_acc * 100))"
   ]
  },
  {
   "cell_type": "code",
   "execution_count": null,
   "metadata": {},
   "outputs": [],
   "source": []
  }
 ],
 "metadata": {
  "kernelspec": {
   "display_name": "Python 3",
   "language": "python",
   "name": "python3"
  },
  "language_info": {
   "codemirror_mode": {
    "name": "ipython",
    "version": 3
   },
   "file_extension": ".py",
   "mimetype": "text/x-python",
   "name": "python",
   "nbconvert_exporter": "python",
   "pygments_lexer": "ipython3",
   "version": "3.7.6"
  }
 },
 "nbformat": 4,
 "nbformat_minor": 4
}
