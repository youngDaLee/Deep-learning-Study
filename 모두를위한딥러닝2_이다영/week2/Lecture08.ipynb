{
 "cells": [
  {
   "cell_type": "markdown",
   "metadata": {},
   "source": [
    "# Deep Neural Net"
   ]
  },
  {
   "cell_type": "markdown",
   "metadata": {},
   "source": [
    "- 우리 실제 뇌 구조도 input이 있고, 어떤 값 이상이 되면 활성화가 됨.\n",
    "- 실제 뇌 구조를 수학화 한 것이 **Activation Funciton**"
   ]
  },
  {
   "cell_type": "markdown",
   "metadata": {},
   "source": [
    "## Activation Functions\n",
    "Wx+b를 반복해서 더해 어떤 값을 넘어가면 1, 넘지 않으면 0으로 넘어가는 형태\n",
    "### Logistic regression units\n",
    "### Hardware implementations\n",
    "- 관심을 끌자 이걸 만든 사람이 얘가 곧 걷고, 말하고, 보고, 쓰고, 자기의 존재를 인식하게 될 것이다 라고 말함.\n",
    "- 어느정도 성공 함. **AND/OR**예측\n",
    "- **XOR** 00>0 01>1 10>0 11>0 단순한 logic이지만 linear하게 선을 그어서 나올 수 없음. 정확도가 떨어진다.\n",
    "\n",
    "traing 문제 해결할 수 없다 했는데 80년대 해결\n",
    "### Backpropagation\n",
    "- Hinton이 재발견함으로서 해결.더 복잡한 형태의 예측 가능\n",
    "\n",
    "### Convolutional Neural Network(CNN)\n"
   ]
  },
  {
   "cell_type": "code",
   "execution_count": null,
   "metadata": {},
   "outputs": [],
   "source": []
  },
  {
   "cell_type": "code",
   "execution_count": null,
   "metadata": {},
   "outputs": [],
   "source": []
  },
  {
   "cell_type": "markdown",
   "metadata": {},
   "source": [
    "## A Big problem\n",
    "- Backpropagation은 10여개 이상의 layer 학습시켜야 함\n",
    "- 뒤로 갈수록 학습시킬 수 없어짐. 성능이 떨어진다.\n",
    "- neural net 보다 간단한 알고리즘 개발됨\n",
    "- 너무 복잡해서 학습 힘들어짐."
   ]
  },
  {
   "cell_type": "markdown",
   "metadata": {},
   "source": [
    "### CIFAR\n",
    "- 캐나다 단체.\n",
    "- 계속 딥러닝 연구함. 얘네가 많이 기여함.\n",
    "- 정체기(10년) 이후 2006년 논문 발표\n",
    "    - 각각의 학습 값에 초기값만 잘 주면 학습할 수 있다(2006년)\n",
    "    - 한층 더 깊게 신경망 구현하는 문제(2007)\n",
    "    - Deep Nets, Deep Learning 용어 등장\n",
    "\n",
    "### ImageNet \n",
    "- 컴퓨터가 이미지 맞추는 프로그램\n",
    "- 매년 발전함.\n",
    "- 2012년에 26.2->15.3%로 오류 확 줄어듦\n",
    "    - 2015년 기준 3%대로 떨어짐. 사람보다 잘 맞춤\n",
    "\n",
    "### Deep API Learning\n",
    "- 자연어로 system에 입력\n",
    "- file copy하고 어디 저장할것이다->하면 원하는대로 API 저장.\n",
    "- 정확도 60%까지 올라옴"
   ]
  },
  {
   "cell_type": "markdown",
   "metadata": {},
   "source": []
  }
 ],
 "metadata": {
  "kernelspec": {
   "display_name": "Python 3",
   "language": "python",
   "name": "python3"
  },
  "language_info": {
   "codemirror_mode": {
    "name": "ipython",
    "version": 3
   },
   "file_extension": ".py",
   "mimetype": "text/x-python",
   "name": "python",
   "nbconvert_exporter": "python",
   "pygments_lexer": "ipython3",
   "version": "3.7.6"
  }
 },
 "nbformat": 4,
 "nbformat_minor": 4
}
